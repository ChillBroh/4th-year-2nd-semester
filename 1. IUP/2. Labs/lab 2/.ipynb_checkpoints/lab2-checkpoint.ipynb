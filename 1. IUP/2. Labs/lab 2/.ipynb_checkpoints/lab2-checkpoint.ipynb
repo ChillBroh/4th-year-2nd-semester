{
 "cells": [
  {
   "cell_type": "markdown",
   "id": "23aae6c5-e66b-447b-a366-9093fd510291",
   "metadata": {},
   "source": [
    "## Image Conversion to gray scale"
   ]
  },
  {
   "cell_type": "code",
   "execution_count": null,
   "id": "8ea71dbd-a66f-434f-a19c-1c7d466a1f06",
   "metadata": {},
   "outputs": [],
   "source": [
    "import cv2\n",
    "import numpy as np"
   ]
  },
  {
   "cell_type": "code",
   "execution_count": null,
   "id": "9220a952-c769-4468-aed7-1e8b71afa350",
   "metadata": {},
   "outputs": [],
   "source": [
    "img = cv2.imread(\"/Users/isharakankanamge/Downloads/tiger.jpg\")\n",
    "imgGray =  cv2.cvtColor(img, cv2.COLOR_BGR2GRAY)\n",
    "cv2.imshow(\"Gray image\",imgGray)\n",
    "cv2.waitKey()\n",
    "cv2.destroyAllWindows()"
   ]
  },
  {
   "cell_type": "markdown",
   "id": "62e843cb-0331-45a9-b791-5895e6fea1ac",
   "metadata": {},
   "source": [
    "## Image Conversion to HCV"
   ]
  },
  {
   "cell_type": "code",
   "execution_count": null,
   "id": "8893703f-dc88-4682-bc76-3919dca9b8af",
   "metadata": {},
   "outputs": [],
   "source": [
    "img = cv2.imread(\"/Users/isharakankanamge/Downloads/tiger.jpg\")\n",
    "imgHsv = cv2.cvtColor(img, cv2.COLOR_BGR2HSV)\n",
    "imgHsv_display = cv2.cvtColor(imgHsv, cv2.COLOR_HSV2BGR)  # Convert back to BGR\n",
    "cv2.imshow('HSV image (Converted for Display)', imgHsv_display)\n",
    "cv2.waitKey()\n",
    "cv2.destroyAllWindows()"
   ]
  },
  {
   "cell_type": "markdown",
   "id": "57598da2-9406-453a-ac91-4ffd20705799",
   "metadata": {},
   "source": [
    "## Video Conversion"
   ]
  },
  {
   "cell_type": "code",
   "execution_count": null,
   "id": "39fd9e31-597a-4061-ba46-20bf3804c1a7",
   "metadata": {},
   "outputs": [],
   "source": [
    "video = cv2.VideoCapture(\"/Users/isharakankanamge/Downloads/small_laptop_connections.mov\")\n",
    "\n",
    "while (video.isOpened()):\n",
    "    ret, frame = video.read()\n",
    "    \n",
    "    if not ret:\n",
    "        print(\"Failed\")\n",
    "        break\n",
    "\n",
    "    resized = cv2.resize(frame,(400,400))\n",
    "    hsvFrame = cv2.cvtColor(resized, cv2.COLOR_BGR2HSV)\n",
    "\n",
    "    lower = np.array([110, 50, 50])\n",
    "    upper = np.array([130, 255, 255])\n",
    "\n",
    "    mask = cv2.inRange(hsvFrame, lower, upper)\n",
    "    extracted = cv2.bitwise_and(resized, resized, mask)\n",
    "\n",
    "    cv2.imshow('hsv', hsvFrame)\n",
    "    cv2.imshow('mask', mask)\n",
    "    cv2.imshow('extracted', extracted)\n",
    "\n",
    "    if cv2.waitKey(1) == ord('q'):\n",
    "        break\n",
    "video.release()\n",
    "cv2.destroyAllWindows()"
   ]
  },
  {
   "cell_type": "code",
   "execution_count": null,
   "id": "ae0e2173-8a5f-4749-b916-366b52a96636",
   "metadata": {},
   "outputs": [],
   "source": []
  }
 ],
 "metadata": {
  "kernelspec": {
   "display_name": "Python 3 (ipykernel)",
   "language": "python",
   "name": "python3"
  },
  "language_info": {
   "codemirror_mode": {
    "name": "ipython",
    "version": 3
   },
   "file_extension": ".py",
   "mimetype": "text/x-python",
   "name": "python",
   "nbconvert_exporter": "python",
   "pygments_lexer": "ipython3",
   "version": "3.12.7"
  }
 },
 "nbformat": 4,
 "nbformat_minor": 5
}
