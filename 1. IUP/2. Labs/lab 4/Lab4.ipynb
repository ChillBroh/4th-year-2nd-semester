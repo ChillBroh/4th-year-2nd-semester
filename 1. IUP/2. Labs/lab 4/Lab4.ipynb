{
 "cells": [
  {
   "cell_type": "code",
   "execution_count": 1,
   "id": "66f6be8c-6b3a-4279-b9dd-88a985979dce",
   "metadata": {},
   "outputs": [
    {
     "name": "stdout",
     "output_type": "stream",
     "text": [
      "Note: you may need to restart the kernel to use updated packages.\n",
      "Defaulting to user installation because normal site-packages is not writeable\n",
      "Requirement already satisfied: opencv-python in c:\\users\\user\\appdata\\roaming\\python\\python313\\site-packages (4.11.0.86)\n",
      "Requirement already satisfied: numpy in c:\\users\\user\\appdata\\roaming\\python\\python313\\site-packages (2.1.3)\n",
      "Requirement already satisfied: matplotlib in c:\\users\\user\\appdata\\roaming\\python\\python313\\site-packages (3.10.0)\n",
      "Requirement already satisfied: contourpy>=1.0.1 in c:\\users\\user\\appdata\\roaming\\python\\python313\\site-packages (from matplotlib) (1.3.1)\n",
      "Requirement already satisfied: cycler>=0.10 in c:\\users\\user\\appdata\\roaming\\python\\python313\\site-packages (from matplotlib) (0.12.1)\n",
      "Requirement already satisfied: fonttools>=4.22.0 in c:\\users\\user\\appdata\\roaming\\python\\python313\\site-packages (from matplotlib) (4.56.0)\n",
      "Requirement already satisfied: kiwisolver>=1.3.1 in c:\\users\\user\\appdata\\roaming\\python\\python313\\site-packages (from matplotlib) (1.4.8)\n",
      "Requirement already satisfied: packaging>=20.0 in c:\\users\\user\\appdata\\roaming\\python\\python313\\site-packages (from matplotlib) (24.1)\n",
      "Requirement already satisfied: pillow>=8 in c:\\users\\user\\appdata\\roaming\\python\\python313\\site-packages (from matplotlib) (11.1.0)\n",
      "Requirement already satisfied: pyparsing>=2.3.1 in c:\\users\\user\\appdata\\roaming\\python\\python313\\site-packages (from matplotlib) (3.2.1)\n",
      "Requirement already satisfied: python-dateutil>=2.7 in c:\\users\\user\\appdata\\roaming\\python\\python313\\site-packages (from matplotlib) (2.9.0.post0)\n",
      "Requirement already satisfied: six>=1.5 in c:\\users\\user\\appdata\\roaming\\python\\python313\\site-packages (from python-dateutil>=2.7->matplotlib) (1.16.0)\n"
     ]
    },
    {
     "name": "stderr",
     "output_type": "stream",
     "text": [
      "\n",
      "[notice] A new release of pip is available: 24.3.1 -> 25.0.1\n",
      "[notice] To update, run: python.exe -m pip install --upgrade pip\n"
     ]
    }
   ],
   "source": [
    "pip install opencv-python numpy matplotlib"
   ]
  },
  {
   "cell_type": "code",
   "execution_count": null,
   "id": "b2a2faa6-88da-490a-8de6-061565079cc1",
   "metadata": {},
   "outputs": [],
   "source": [
    "import cv2 \n",
    "import numpy as np\n",
    "import matplotlib.pyplot as plt\n",
    " \n",
    "#read the image\n",
    "img = cv2.imread(r\"E:\\SLIIT\\YEAR 4\\2. Semester 2\\Modules\\1. Image Understanding and Processing - IT4130\\Lab\\Lab 4\\Lab 4 Images\\darkImage.png\", 0)\n",
    " \n",
    "histogram1 = cv2.calcHist([img],[0],None,[256],[0,256])\n",
    " \n",
    "#Complete the code here\n",
    "#creating a Histogram equalization of a image using cv2.equalizeHist()\n",
    "equalizedImg = cv2.equalizeHist(img)\n",
    " \n",
    "histogram2 = cv2.calcHist([equalizedImg],[0],None,[256],[0,256])\n",
    " \n",
    "#Complete the code here to plot the two histograms, dark image and contrast adjusted (equalized) image\n",
    "plt.supplot(221), plt.plot(histogram1)\n",
    "plt.supplot(225), plt.plot(histogram2)\n",
    "\n",
    "results = np.hstack((img, equalizedImg))\n",
    "cv2.imshow('Result', results)\n",
    "cv2.waitKey(0)"
   ]
  },
  {
   "cell_type": "code",
   "execution_count": null,
   "id": "2f95b21d-a403-4ea4-a57b-a8daefcb5327",
   "metadata": {},
   "outputs": [],
   "source": [
    "import cv2 \n",
    "import numpy as np\n",
    "import matplotlib.pyplot as plt\n",
    "\n",
    "\n",
    "img1 = cv2.imread(r\"E:\\SLIIT\\YEAR 4\\2. Semester 2\\Modules\\1. Image Understanding and Processing - IT4130\\Lab\\Lab 4\\Lab 4 Images\\darkImage.png\", 0)\n",
    "img2 = cv2.imread(r\"E:\\SLIIT\\YEAR 4\\2. Semester 2\\Modules\\1. Image Understanding and Processing - IT4130\\Lab\\Lab 4\\Lab 4 Images\\broightImage.png\", 0)\n",
    "\n",
    "histogram2 = cv2.calcHist([equalizedImg],[0],None,[256],[0,256])\n",
    "histogram2 = cv2.calcHist([equalizedImg],[0],None,[256],[0,256])\n",
    "\n",
    "equalizedImg1 = cv2.equalizeHist(img1)\n",
    "equalizedImg2 = cv2.equalizeHist(img2)\n"
   ]
  },
  {
   "cell_type": "code",
   "execution_count": 4,
   "id": "55e66f7e-c80c-41c4-9153-8a91b6caf962",
   "metadata": {},
   "outputs": [
    {
     "name": "stdout",
     "output_type": "stream",
     "text": [
      "Requirement already satisfied: opencv-python in c:\\users\\user\\anaconda3\\envs\\testing_env\\lib\\site-packages (4.11.0.86)Note: you may need to restart the kernel to use updated packages.\n"
     ]
    },
    {
     "name": "stderr",
     "output_type": "stream",
     "text": [
      "  WARNING: The scripts fonttools.exe, pyftmerge.exe, pyftsubset.exe and ttx.exe are installed in 'C:\\Users\\USER\\anaconda3\\envs\\testing_env\\Scripts' which is not on PATH.\n",
      "  Consider adding this directory to PATH or, if you prefer to suppress this warning, use --no-warn-script-location.\n"
     ]
    },
    {
     "name": "stdout",
     "output_type": "stream",
     "text": [
      "\n",
      "Requirement already satisfied: numpy in c:\\users\\user\\anaconda3\\envs\\testing_env\\lib\\site-packages (2.0.2)\n",
      "Collecting matplotlib\n",
      "  Downloading matplotlib-3.9.4-cp39-cp39-win_amd64.whl.metadata (11 kB)\n",
      "Collecting contourpy>=1.0.1 (from matplotlib)\n",
      "  Downloading contourpy-1.3.0-cp39-cp39-win_amd64.whl.metadata (5.4 kB)\n",
      "Collecting cycler>=0.10 (from matplotlib)\n",
      "  Using cached cycler-0.12.1-py3-none-any.whl.metadata (3.8 kB)\n",
      "Collecting fonttools>=4.22.0 (from matplotlib)\n",
      "  Downloading fonttools-4.56.0-cp39-cp39-win_amd64.whl.metadata (103 kB)\n",
      "Collecting kiwisolver>=1.3.1 (from matplotlib)\n",
      "  Downloading kiwisolver-1.4.7-cp39-cp39-win_amd64.whl.metadata (6.4 kB)\n",
      "Requirement already satisfied: packaging>=20.0 in c:\\users\\user\\anaconda3\\envs\\testing_env\\lib\\site-packages (from matplotlib) (24.2)\n",
      "Requirement already satisfied: pillow>=8 in c:\\users\\user\\anaconda3\\envs\\testing_env\\lib\\site-packages (from matplotlib) (10.4.0)\n",
      "Collecting pyparsing>=2.3.1 (from matplotlib)\n",
      "  Using cached pyparsing-3.2.1-py3-none-any.whl.metadata (5.0 kB)\n",
      "Requirement already satisfied: python-dateutil>=2.7 in c:\\users\\user\\anaconda3\\envs\\testing_env\\lib\\site-packages (from matplotlib) (2.9.0.post0)\n",
      "Requirement already satisfied: importlib-resources>=3.2.0 in c:\\users\\user\\anaconda3\\envs\\testing_env\\lib\\site-packages (from matplotlib) (6.4.5)\n",
      "Requirement already satisfied: zipp>=3.1.0 in c:\\users\\user\\anaconda3\\envs\\testing_env\\lib\\site-packages (from importlib-resources>=3.2.0->matplotlib) (3.21.0)\n",
      "Requirement already satisfied: six>=1.5 in c:\\users\\user\\anaconda3\\envs\\testing_env\\lib\\site-packages (from python-dateutil>=2.7->matplotlib) (1.16.0)\n",
      "Downloading matplotlib-3.9.4-cp39-cp39-win_amd64.whl (7.8 MB)\n",
      "   ---------------------------------------- 0.0/7.8 MB ? eta -:--:--\n",
      "   ---------------------------------------- 0.0/7.8 MB ? eta -:--:--\n",
      "   - -------------------------------------- 0.3/7.8 MB ? eta -:--:--\n",
      "   - -------------------------------------- 0.3/7.8 MB ? eta -:--:--\n",
      "   -- ------------------------------------- 0.5/7.8 MB 599.9 kB/s eta 0:00:13\n",
      "   -- ------------------------------------- 0.5/7.8 MB 599.9 kB/s eta 0:00:13\n",
      "   ---- ----------------------------------- 0.8/7.8 MB 671.3 kB/s eta 0:00:11\n",
      "   ----- ---------------------------------- 1.0/7.8 MB 699.0 kB/s eta 0:00:10\n",
      "   ----- ---------------------------------- 1.0/7.8 MB 699.0 kB/s eta 0:00:10\n",
      "   ----- ---------------------------------- 1.0/7.8 MB 699.0 kB/s eta 0:00:10\n",
      "   ----- ---------------------------------- 1.0/7.8 MB 699.0 kB/s eta 0:00:10\n",
      "   ------ --------------------------------- 1.3/7.8 MB 583.5 kB/s eta 0:00:12\n",
      "   -------- ------------------------------- 1.6/7.8 MB 607.9 kB/s eta 0:00:11\n",
      "   -------- ------------------------------- 1.6/7.8 MB 607.9 kB/s eta 0:00:11\n",
      "   -------- ------------------------------- 1.6/7.8 MB 607.9 kB/s eta 0:00:11\n",
      "   --------- ------------------------------ 1.8/7.8 MB 572.0 kB/s eta 0:00:11\n",
      "   ---------- ----------------------------- 2.1/7.8 MB 611.7 kB/s eta 0:00:10\n",
      "   ---------- ----------------------------- 2.1/7.8 MB 611.7 kB/s eta 0:00:10\n",
      "   ------------ --------------------------- 2.4/7.8 MB 593.9 kB/s eta 0:00:10\n",
      "   ------------ --------------------------- 2.4/7.8 MB 593.9 kB/s eta 0:00:10\n",
      "   ------------ --------------------------- 2.4/7.8 MB 593.9 kB/s eta 0:00:10\n",
      "   ------------- -------------------------- 2.6/7.8 MB 567.7 kB/s eta 0:00:10\n",
      "   ------------- -------------------------- 2.6/7.8 MB 567.7 kB/s eta 0:00:10\n",
      "   ------------- -------------------------- 2.6/7.8 MB 567.7 kB/s eta 0:00:10\n",
      "   -------------- ------------------------- 2.9/7.8 MB 559.3 kB/s eta 0:00:09\n",
      "   -------------- ------------------------- 2.9/7.8 MB 559.3 kB/s eta 0:00:09\n",
      "   ---------------- ----------------------- 3.1/7.8 MB 571.3 kB/s eta 0:00:09\n",
      "   ---------------- ----------------------- 3.1/7.8 MB 571.3 kB/s eta 0:00:09\n",
      "   ----------------- ---------------------- 3.4/7.8 MB 573.6 kB/s eta 0:00:08\n",
      "   ------------------ --------------------- 3.7/7.8 MB 586.4 kB/s eta 0:00:08\n",
      "   -------------------- ------------------- 3.9/7.8 MB 605.4 kB/s eta 0:00:07\n",
      "   -------------------- ------------------- 3.9/7.8 MB 605.4 kB/s eta 0:00:07\n",
      "   --------------------- ------------------ 4.2/7.8 MB 607.8 kB/s eta 0:00:06\n",
      "   --------------------- ------------------ 4.2/7.8 MB 607.8 kB/s eta 0:00:06\n",
      "   ---------------------- ----------------- 4.5/7.8 MB 614.3 kB/s eta 0:00:06\n",
      "   ------------------------ --------------- 4.7/7.8 MB 618.7 kB/s eta 0:00:06\n",
      "   ------------------------ --------------- 4.7/7.8 MB 618.7 kB/s eta 0:00:06\n",
      "   ------------------------- -------------- 5.0/7.8 MB 621.4 kB/s eta 0:00:05\n",
      "   ------------------------- -------------- 5.0/7.8 MB 621.4 kB/s eta 0:00:05\n",
      "   -------------------------- ------------- 5.2/7.8 MB 621.3 kB/s eta 0:00:05\n",
      "   -------------------------- ------------- 5.2/7.8 MB 621.3 kB/s eta 0:00:05\n",
      "   ---------------------------- ----------- 5.5/7.8 MB 621.4 kB/s eta 0:00:04\n",
      "   ----------------------------- ---------- 5.8/7.8 MB 631.4 kB/s eta 0:00:04\n",
      "   ------------------------------ --------- 6.0/7.8 MB 647.6 kB/s eta 0:00:03\n",
      "   ------------------------------ --------- 6.0/7.8 MB 647.6 kB/s eta 0:00:03\n",
      "   -------------------------------- ------- 6.3/7.8 MB 647.5 kB/s eta 0:00:03\n",
      "   -------------------------------- ------- 6.3/7.8 MB 647.5 kB/s eta 0:00:03\n",
      "   --------------------------------- ------ 6.6/7.8 MB 642.2 kB/s eta 0:00:02\n",
      "   --------------------------------- ------ 6.6/7.8 MB 642.2 kB/s eta 0:00:02\n",
      "   ---------------------------------- ----- 6.8/7.8 MB 643.3 kB/s eta 0:00:02\n",
      "   ------------------------------------ --- 7.1/7.8 MB 651.0 kB/s eta 0:00:02\n",
      "   ------------------------------------- -- 7.3/7.8 MB 664.2 kB/s eta 0:00:01\n",
      "   ------------------------------------- -- 7.3/7.8 MB 664.2 kB/s eta 0:00:01\n",
      "   -------------------------------------- - 7.6/7.8 MB 672.0 kB/s eta 0:00:01\n",
      "   ---------------------------------------- 7.8/7.8 MB 674.9 kB/s eta 0:00:00\n",
      "Downloading contourpy-1.3.0-cp39-cp39-win_amd64.whl (211 kB)\n",
      "Using cached cycler-0.12.1-py3-none-any.whl (8.3 kB)\n",
      "Downloading fonttools-4.56.0-cp39-cp39-win_amd64.whl (2.2 MB)\n",
      "   ---------------------------------------- 0.0/2.2 MB ? eta -:--:--\n",
      "   ---- ----------------------------------- 0.3/2.2 MB ? eta -:--:--\n",
      "   --------- ------------------------------ 0.5/2.2 MB 1.3 MB/s eta 0:00:02\n",
      "   -------------- ------------------------- 0.8/2.2 MB 1.2 MB/s eta 0:00:02\n",
      "   ------------------- -------------------- 1.0/2.2 MB 1.3 MB/s eta 0:00:01\n",
      "   ----------------------- ---------------- 1.3/2.2 MB 1.2 MB/s eta 0:00:01\n",
      "   ---------------------------- ----------- 1.6/2.2 MB 1.2 MB/s eta 0:00:01\n",
      "   --------------------------------- ------ 1.8/2.2 MB 1.2 MB/s eta 0:00:01\n",
      "   --------------------------------- ------ 1.8/2.2 MB 1.2 MB/s eta 0:00:01\n",
      "   ---------------------------------------- 2.2/2.2 MB 1.1 MB/s eta 0:00:00\n",
      "Downloading kiwisolver-1.4.7-cp39-cp39-win_amd64.whl (55 kB)\n",
      "Using cached pyparsing-3.2.1-py3-none-any.whl (107 kB)\n",
      "Installing collected packages: pyparsing, kiwisolver, fonttools, cycler, contourpy, matplotlib\n",
      "Successfully installed contourpy-1.3.0 cycler-0.12.1 fonttools-4.56.0 kiwisolver-1.4.7 matplotlib-3.9.4 pyparsing-3.2.1\n"
     ]
    }
   ],
   "source": [
    "pip install opencv-python numpy matplotlib"
   ]
  },
  {
   "cell_type": "code",
   "execution_count": null,
   "id": "a5019c2a-530a-40f7-8042-1d66c9edbe6b",
   "metadata": {},
   "outputs": [],
   "source": [
    "import cv2\n",
    "import numpy as np\n",
    "import matplotlib.pyplot as plt\n",
    "\n",
    "# Read the image in color (default behavior, no second argument needed)\n",
    "img = cv2.imread(r\"E:\\SLIIT\\YEAR 4\\2. Semester 2\\Modules\\1. Image Understanding and Processing - IT4130\\Lab\\Lab 4\\Lab 4 Images\\color.png\")\n",
    "\n",
    "# Convert the image from BGR to HSV\n",
    "img_hsv = cv2.cvtColor(img, cv2.COLOR_BGR2HSV)\n",
    "\n",
    "img_hsv[;, ;, 2] = cv2.equalizeHist(img_hsv[;, ;, 2])\n",
    "img_RGB = cv2.cvtColor\n",
    "\n",
    "# Optional: Display the image to verify the result\n",
    "cv2.imshow(\"HSV Image\", img_hsv)\n",
    "cv2.waitKey(0)\n",
    "cv2.destroyAllWindows()\n"
   ]
  },
  {
   "cell_type": "code",
   "execution_count": null,
   "id": "175493aa-1cc3-4fb9-a5d8-cce87c6f2ee2",
   "metadata": {},
   "outputs": [],
   "source": []
  }
 ],
 "metadata": {
  "kernelspec": {
   "display_name": "Python (testing_env)",
   "language": "python",
   "name": "testing_env"
  },
  "language_info": {
   "codemirror_mode": {
    "name": "ipython",
    "version": 3
   },
   "file_extension": ".py",
   "mimetype": "text/x-python",
   "name": "python",
   "nbconvert_exporter": "python",
   "pygments_lexer": "ipython3",
   "version": "3.9.20"
  }
 },
 "nbformat": 4,
 "nbformat_minor": 5
}
