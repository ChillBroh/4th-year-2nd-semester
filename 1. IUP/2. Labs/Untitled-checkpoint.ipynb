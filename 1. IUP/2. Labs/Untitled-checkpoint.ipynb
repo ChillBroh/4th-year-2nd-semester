{
 "cells": [
  {
   "cell_type": "markdown",
   "id": "3c66aaaf-5ff3-4607-a9f4-ded971caf9b7",
   "metadata": {},
   "source": [
    "### Understanding Kernals/windows/filters"
   ]
  },
  {
   "cell_type": "code",
   "execution_count": 2,
   "id": "3fa58170-b3ee-4e38-8446-4b3e1d3b7022",
   "metadata": {},
   "outputs": [
    {
     "name": "stdout",
     "output_type": "stream",
     "text": [
      "[[1 1 1]\n",
      " [1 1 1]\n",
      " [1 1 1]]\n"
     ]
    }
   ],
   "source": [
    "import numpy as np\n",
    "import cv2\n",
    "import matplotlib.pyplot as plt\n",
    "\n",
    "kernel = np.ones((3,3), dtype=int) #array with ones(1's), Ksize, type\n",
    "print(kernal)"
   ]
  },
  {
   "cell_type": "code",
   "execution_count": 15,
   "id": "40c8ed3d-6d1e-4300-be2c-6cbb82add1b8",
   "metadata": {},
   "outputs": [
    {
     "name": "stdout",
     "output_type": "stream",
     "text": [
      "[[1 1 1]\n",
      " [1 1 1]\n",
      " [1 1 1]]\n"
     ]
    },
    {
     "data": {
      "text/plain": [
       "-1"
      ]
     },
     "execution_count": 15,
     "metadata": {},
     "output_type": "execute_result"
    }
   ],
   "source": [
    "import numpy as np\n",
    "import cv2\n",
    "import matplotlib.pyplot as plt\n",
    "\n",
    "img = cv2.imread('saltandpepper1.jpeg') \n",
    "kernel = np.ones((5,5), np.float32)/25\n",
    "print(kernal)\n",
    "dst = cv2.filter2D(img,-1,kernel)\n",
    "\n",
    "result = np.hstack((img,dst))\n",
    "cv2.imshow('result',result)\n",
    "\n",
    "cv2.waitKey(0)"
   ]
  },
  {
   "cell_type": "code",
   "execution_count": 16,
   "id": "25c5ee07-ca30-411d-b795-e83ea16369df",
   "metadata": {},
   "outputs": [
    {
     "name": "stdout",
     "output_type": "stream",
     "text": [
      "[[1 1 1]\n",
      " [1 1 1]\n",
      " [1 1 1]]\n"
     ]
    },
    {
     "data": {
      "text/plain": [
       "-1"
      ]
     },
     "execution_count": 16,
     "metadata": {},
     "output_type": "execute_result"
    }
   ],
   "source": [
    "import numpy as np\n",
    "import cv2\n",
    "import matplotlib.pyplot as plt\n",
    "\n",
    "img = cv2.imread('saltandpepper1.jpeg') \n",
    "kernel = np.ones((5,5), np.float32)/25\n",
    "print(kernal)\n",
    "blurred = cv2.blur(img, (5,5))\n",
    "\n",
    "result = np.hstack((img,blurred))\n",
    "cv2.imshow('result',result)\n",
    "\n",
    "cv2.waitKey(0)"
   ]
  },
  {
   "cell_type": "code",
   "execution_count": 18,
   "id": "9b495212-5596-4cd2-be13-c2b5ad80974d",
   "metadata": {},
   "outputs": [
    {
     "name": "stdout",
     "output_type": "stream",
     "text": [
      "[[1 1 1]\n",
      " [1 1 1]\n",
      " [1 1 1]]\n"
     ]
    },
    {
     "data": {
      "text/plain": [
       "-1"
      ]
     },
     "execution_count": 18,
     "metadata": {},
     "output_type": "execute_result"
    }
   ],
   "source": [
    "import numpy as np\n",
    "import cv2\n",
    "import matplotlib.pyplot as plt\n",
    "\n",
    "img = cv2.imread('saltandpepper1.jpeg') \n",
    "kernel = np.ones((5,5), np.float32)/25\n",
    "print(kernal)\n",
    "box_filtered = cv2.boxFilter(img, -1, (5,5))\n",
    "\n",
    "result = np.hstack((img,box_filtered))\n",
    "cv2.imshow('result',result)\n",
    "\n",
    "cv2.waitKey(0)"
   ]
  },
  {
   "cell_type": "code",
   "execution_count": 23,
   "id": "9e3fb2bc-f84d-4026-a3ec-e7d4da3a340d",
   "metadata": {},
   "outputs": [
    {
     "data": {
      "text/plain": [
       "-1"
      ]
     },
     "execution_count": 23,
     "metadata": {},
     "output_type": "execute_result"
    }
   ],
   "source": [
    "import numpy as np\n",
    "import cv2\n",
    "import matplotlib.pyplot as plt\n",
    "\n",
    "img = cv2.imread('saltandpepper2.jpeg', 1) \n",
    "\n",
    "median = cv2.medianBlur(img, 3)\n",
    "\n",
    "result = np.hstack((img,median))\n",
    "cv2.imshow('result',result)\n",
    "\n",
    "cv2.waitKey(0)"
   ]
  },
  {
   "cell_type": "code",
   "execution_count": 25,
   "id": "d22b8fe3-53ac-4862-8e53-aa3b878f403f",
   "metadata": {},
   "outputs": [
    {
     "data": {
      "text/plain": [
       "-1"
      ]
     },
     "execution_count": 25,
     "metadata": {},
     "output_type": "execute_result"
    }
   ],
   "source": [
    "import numpy as np\n",
    "import cv2\n",
    "import matplotlib.pyplot as plt\n",
    "\n",
    "img = cv2.imread('gaussian noise.jpeg', 1) \n",
    "\n",
    "blur = cv2.GaussianBlur(img, (11,11),0)\n",
    "\n",
    "result = np.hstack((img,blur))\n",
    "cv2.imshow('result',result)\n",
    "\n",
    "cv2.waitKey(0)"
   ]
  },
  {
   "cell_type": "code",
   "execution_count": null,
   "id": "fb218279-521f-4ad4-8584-0dce4f06b723",
   "metadata": {},
   "outputs": [],
   "source": [
    "import numpy as np\n",
    "import cv2\n",
    "import matplotlib.pyplot as plt\n",
    "\n",
    "img = cv2.imread('hubble.jpeg', 1) \n",
    "#TODO: Create custom kernal of size 15*15 and apply to the input image\n",
    "kernel = np.ones((15, 15), np.float32) / 225  \n",
    "dst = cv2.filter2D(img,-1,kernel)\n",
    "\n",
    "#Apply thresholding operator to highlight the largest object\n",
    "gray = cv2.cvtColor(dst, cv2.COLOR_BGR2GRAY)\n",
    "_, thresh = cv2.threshold(gray, 127, 255, cv2.THRESH_BINARY)\n",
    "result = np.hstack((img, dst, cv2.cvtColor(thresh, cv2.COLOR_GRAY2BGR)))\n",
    "cv2.imshow('result',result)\n",
    "\n",
    "cv2.waitKey(0)"
   ]
  },
  {
   "cell_type": "code",
   "execution_count": null,
   "id": "48ed01d8-2a37-4bfd-82bd-4bfbe02b5857",
   "metadata": {},
   "outputs": [],
   "source": []
  }
 ],
 "metadata": {
  "kernelspec": {
   "display_name": "Python 3 (ipykernel)",
   "language": "python",
   "name": "python3"
  },
  "language_info": {
   "codemirror_mode": {
    "name": "ipython",
    "version": 3
   },
   "file_extension": ".py",
   "mimetype": "text/x-python",
   "name": "python",
   "nbconvert_exporter": "python",
   "pygments_lexer": "ipython3",
   "version": "3.12.5"
  }
 },
 "nbformat": 4,
 "nbformat_minor": 5
}
