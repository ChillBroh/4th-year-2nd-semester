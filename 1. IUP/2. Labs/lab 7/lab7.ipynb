{
 "cells": [
  {
   "cell_type": "code",
   "execution_count": 1,
   "id": "bbff673c-41af-4f79-9e5a-7c6e22b0edc1",
   "metadata": {},
   "outputs": [],
   "source": [
    "#import the needed modules from the PIL package \n",
    "from PIL import Image, ImageFilter, ImageOps"
   ]
  },
  {
   "cell_type": "code",
   "execution_count": 3,
   "id": "2080f958-a38c-47fc-9d57-cfe51432bf54",
   "metadata": {},
   "outputs": [],
   "source": [
    "#Create an Image Object\n",
    "img1 = Image.open('noise.jpg')\n",
    "img1.show()"
   ]
  },
  {
   "cell_type": "code",
   "execution_count": 5,
   "id": "36fb8394-22fe-4f70-b8f7-02833b2adc67",
   "metadata": {},
   "outputs": [],
   "source": [
    "#Applying Min Filter using ImageFilter.MinFilter() method\n",
    "img2 = img1.filter(ImageFilter.MinFilter(size = 3))\n",
    "img2.show()"
   ]
  },
  {
   "cell_type": "code",
   "execution_count": 10,
   "id": "d3745456-697c-4d46-967e-7725013c1d67",
   "metadata": {},
   "outputs": [],
   "source": [
    "#Applying Max Filter using ImageFilter.MaxFilter() method\n",
    "img3 = img2.filter(ImageFilter.MaxFilter(size = 3))\n",
    "img3.show()"
   ]
  },
  {
   "cell_type": "code",
   "execution_count": 9,
   "id": "f38ba062-fe06-4a5a-8c90-7191367bd0b5",
   "metadata": {},
   "outputs": [],
   "source": [
    "#Apply Grayscale using ImageOps.grayscale(img) method\n",
    "img4 = ImageOps.grayscale(img3)\n",
    "img4.show()"
   ]
  },
  {
   "cell_type": "code",
   "execution_count": 8,
   "id": "c626a7a1-bc1a-417d-848c-9a67169e665b",
   "metadata": {},
   "outputs": [],
   "source": [
    "#Apply Edge detection using ImageFilter.Kernel() method\n",
    "#ImageFilter.Kernel(size,kernel,scale,offset)\n",
    "img5 = img4.filter(ImageFilter.Kernel((3,3), (-1,-1,-1,-1,8,-1,-1,-1,-1),1,0))\n",
    "img5.show()"
   ]
  },
  {
   "cell_type": "code",
   "execution_count": null,
   "id": "235ec55d-27e7-4b8a-84f0-1829be112845",
   "metadata": {},
   "outputs": [],
   "source": []
  }
 ],
 "metadata": {
  "kernelspec": {
   "display_name": "Python (iup_env)",
   "language": "python",
   "name": "myenv"
  },
  "language_info": {
   "codemirror_mode": {
    "name": "ipython",
    "version": 3
   },
   "file_extension": ".py",
   "mimetype": "text/x-python",
   "name": "python",
   "nbconvert_exporter": "python",
   "pygments_lexer": "ipython3",
   "version": "3.10.16"
  }
 },
 "nbformat": 4,
 "nbformat_minor": 5
}
