{
 "cells": [
  {
   "cell_type": "markdown",
   "id": "69f77529-7bfb-4dab-bccd-a7ed85ff6203",
   "metadata": {},
   "source": [
    "## Lab 06\n"
   ]
  },
  {
   "cell_type": "markdown",
   "id": "e2f65891-2250-4827-b2b4-fdacc9b7e6ed",
   "metadata": {},
   "source": [
    "## Powertoys - tools to get the caption of an image"
   ]
  },
  {
   "cell_type": "markdown",
   "id": "904db246-22a5-4860-b83d-55d3397972c2",
   "metadata": {},
   "source": [
    "### Understanding Kernals/window/filter"
   ]
  },
  {
   "cell_type": "code",
   "execution_count": 3,
   "id": "a85041d5-6696-42b4-a316-937fe22595bd",
   "metadata": {},
   "outputs": [
    {
     "name": "stdout",
     "output_type": "stream",
     "text": [
      "[[1 1 1]\n",
      " [1 1 1]\n",
      " [1 1 1]]\n"
     ]
    }
   ],
   "source": [
    "import cv2\n",
    "import numpy as np\n",
    "import matplotlib.pyplot as plt\n",
    "\n",
    "kernel = np.ones((3,3), dtype=int)  # array with ones(1's), K size, type\n",
    "print(kernel)"
   ]
  },
  {
   "cell_type": "markdown",
   "id": "a55f8632-0c4b-4bda-9ab3-9b7cd7426611",
   "metadata": {},
   "source": [
    "### 1) Image Filtering using 2D convolution."
   ]
  },
  {
   "cell_type": "code",
   "execution_count": 10,
   "id": "1644df36-dfca-4b2d-8af3-f25cfbed71f1",
   "metadata": {},
   "outputs": [
    {
     "data": {
      "text/plain": [
       "-1"
      ]
     },
     "execution_count": 10,
     "metadata": {},
     "output_type": "execute_result"
    }
   ],
   "source": [
    "import cv2\n",
    "import numpy as np\n",
    "import matplotlib.pyplot as plt\n",
    "\n",
    "# Load the image here\n",
    "img = cv2.imread(\"D:/SLIIT Y4 S1/IUP/Labs/Lab 6/My/saltandpepper1.png\",1)\n",
    "\n",
    "kernel = np.ones((5,5), np.float32)/25\n",
    "dst = cv2.filter2D(img, -1, kernel)\n",
    "\n",
    "result = np.hstack((img,dst))\n",
    "cv2.imshow('result', result)\n",
    "\n",
    "cv2.waitKey(0)"
   ]
  },
  {
   "cell_type": "markdown",
   "id": "d966bb34-3cc8-41dd-bcad-a2caec755289",
   "metadata": {},
   "source": [
    "### 2) Image Averaging using Box Filter - Blur"
   ]
  },
  {
   "cell_type": "code",
   "execution_count": 17,
   "id": "62b41579-428a-4ede-b3f4-57e3316594bd",
   "metadata": {},
   "outputs": [
    {
     "data": {
      "text/plain": [
       "-1"
      ]
     },
     "execution_count": 17,
     "metadata": {},
     "output_type": "execute_result"
    }
   ],
   "source": [
    "import cv2\n",
    "import numpy as np\n",
    "import matplotlib.pyplot as plt\n",
    "\n",
    "# Load the image here\n",
    "img = cv2.imread(\"D:/SLIIT Y4 S1/IUP/Labs/Lab 6/My/saltandpepper1.png\",1)\n",
    "\n",
    "blur = cv2.blur(img,(5,5))\n",
    "\n",
    "result = np.hstack((img,blur))\n",
    "cv2.imshow('result', result)\n",
    "\n",
    "cv2.waitKey(0)"
   ]
  },
  {
   "cell_type": "markdown",
   "id": "3bf20a1f-eb20-46e6-9f4b-ed4719fb01bf",
   "metadata": {},
   "source": [
    "### 2) Image Averaging using Box Filter - Box filter"
   ]
  },
  {
   "cell_type": "code",
   "execution_count": 18,
   "id": "980e56f2-9b31-4766-8486-258d2b0649e1",
   "metadata": {},
   "outputs": [
    {
     "data": {
      "text/plain": [
       "-1"
      ]
     },
     "execution_count": 18,
     "metadata": {},
     "output_type": "execute_result"
    }
   ],
   "source": [
    "import cv2\n",
    "import numpy as np\n",
    "import matplotlib.pyplot as plt\n",
    "\n",
    "# Load the image here\n",
    "# img = cv2.imread(\"D:/SLIIT Y4 S1/IUP/Labs/Lab 6/My/saltandpepper1.png\",1)\n",
    "img = cv2.imread(\"D:/SLIIT Y4 S1/IUP/Labs/Lab 6/My/saltandpepper2.png\",1)\n",
    "\n",
    "box = cv2.boxFilter(img,-1, (5,5))\n",
    "\n",
    "result = np.hstack((img,box))\n",
    "cv2.imshow('result', result)\n",
    "\n",
    "cv2.waitKey(0)"
   ]
  },
  {
   "cell_type": "markdown",
   "id": "e7129a38-022b-4496-8f31-78d865ac1538",
   "metadata": {},
   "source": [
    "### 3) Median Filtering and Gaussian Filtering."
   ]
  },
  {
   "cell_type": "code",
   "execution_count": 34,
   "id": "60be86dd-6560-4d5f-b839-f0a0c7f850eb",
   "metadata": {},
   "outputs": [
    {
     "data": {
      "text/plain": [
       "-1"
      ]
     },
     "execution_count": 34,
     "metadata": {},
     "output_type": "execute_result"
    }
   ],
   "source": [
    "import cv2\n",
    "import numpy as np\n",
    "import matplotlib.pyplot as plt\n",
    "\n",
    "# Load the image here\n",
    "# img = cv2.imread(\"D:/SLIIT Y4 S1/IUP/Labs/Lab 6/My/saltandpepper1.png\",1)\n",
    "img = cv2.imread(\"D:/SLIIT Y4 S1/IUP/Labs/Lab 6/My/saltandpepper2.png\",1)\n",
    "\n",
    "median = cv2.medianBlur(img,5) # 5 -> jernel size\n",
    "\n",
    "result = np.hstack((img,median))\n",
    "cv2.imshow('result', result)\n",
    "\n",
    "cv2.waitKey(0)"
   ]
  },
  {
   "cell_type": "markdown",
   "id": "1e9f33f5-9714-4d17-83a7-18b853358f40",
   "metadata": {},
   "source": [
    "### 3) Median Filtering and Gaussian Filtering - blur."
   ]
  },
  {
   "cell_type": "code",
   "execution_count": 38,
   "id": "db4a19b5-6ca7-4e65-8799-25ff55cad984",
   "metadata": {},
   "outputs": [
    {
     "data": {
      "text/plain": [
       "-1"
      ]
     },
     "execution_count": 38,
     "metadata": {},
     "output_type": "execute_result"
    }
   ],
   "source": [
    "import cv2\n",
    "import numpy as np\n",
    "import matplotlib.pyplot as plt\n",
    "\n",
    "# Load the image here\n",
    "# img = cv2.imread(\"D:/SLIIT Y4 S1/IUP/Labs/Lab 6/My/saltandpepper1.png\",1)\n",
    "img = cv2.imread(\"D:/SLIIT Y4 S1/IUP/Labs/Lab 6/My/gaussian Noise.png\",1)\n",
    "\n",
    "gaussian = cv2.GaussianBlur(img,(11,11),0) #src, ksize, standard devitaion sigmaX\n",
    "\n",
    "result = np.hstack((img,gaussian))\n",
    "cv2.imshow('result', result)\n",
    "\n",
    "cv2.waitKey(0)"
   ]
  },
  {
   "cell_type": "markdown",
   "id": "14f86e49-3760-4361-b045-6fd41167a88b",
   "metadata": {},
   "source": [
    "### 4) Application of image blurring. - Home work"
   ]
  },
  {
   "cell_type": "code",
   "execution_count": 44,
   "id": "d65a0a7b-8eaf-41d4-9191-2c23b1b2853e",
   "metadata": {},
   "outputs": [
    {
     "data": {
      "text/plain": [
       "-1"
      ]
     },
     "execution_count": 44,
     "metadata": {},
     "output_type": "execute_result"
    }
   ],
   "source": [
    "import cv2\n",
    "import numpy as np\n",
    "import matplotlib.pyplot as plt\n",
    "\n",
    "img3 = cv2.imread(\"D:/SLIIT Y4 S1/IUP/Labs/Lab 6/My/hubble.png\",0)\n",
    "\n",
    "# Create sutom Kernal of size 15x15 amd apply to the input image\n",
    "kernel = np.ones((15, 15), np.float32) / 225\n",
    "\n",
    "dst = cv2.filter2D(img3, -1, kernel)\n",
    "\n",
    "# Apply threasholding operator to highlight the largest object\n",
    "_, thresh = cv2.threshold(dst, 127, 255, cv2.THRESH_BINARY)\n",
    "\n",
    "result = np.hstack((img3, dst, thresh))\n",
    "cv2.imshow('result', result)\n",
    "\n",
    "cv2.waitKey(0)"
   ]
  },
  {
   "cell_type": "code",
   "execution_count": null,
   "id": "b2d41774-6f7d-4c32-a4bc-70ac706aeb05",
   "metadata": {},
   "outputs": [],
   "source": []
  }
 ],
 "metadata": {
  "kernelspec": {
   "display_name": "Python 3 (ipykernel)",
   "language": "python",
   "name": "python3"
  },
  "language_info": {
   "codemirror_mode": {
    "name": "ipython",
    "version": 3
   },
   "file_extension": ".py",
   "mimetype": "text/x-python",
   "name": "python",
   "nbconvert_exporter": "python",
   "pygments_lexer": "ipython3",
   "version": "3.10.0"
  }
 },
 "nbformat": 4,
 "nbformat_minor": 5
}
