{
 "cells": [
  {
   "cell_type": "markdown",
   "id": "4648f4a9-221f-4833-a471-0849c2c5ad98",
   "metadata": {},
   "source": [
    "### Import Libraries"
   ]
  },
  {
   "cell_type": "code",
   "execution_count": 32,
   "id": "89d9b377-0570-4509-9bca-fe7e3203279f",
   "metadata": {},
   "outputs": [],
   "source": [
    "import cv2\n",
    "import matplotlib.pyplot as plt"
   ]
  },
  {
   "cell_type": "markdown",
   "id": "e9c1cb64-b3d4-4944-b3da-df51bd81fd5a",
   "metadata": {},
   "source": [
    "### Q1) Read an image"
   ]
  },
  {
   "cell_type": "code",
   "execution_count": 21,
   "id": "726ff0b1-a026-4912-8bf3-f6ba58f3ac2e",
   "metadata": {},
   "outputs": [],
   "source": [
    "img = cv2.imread('D:/SLIIT Y4 S1/IUP/Labs/Lab 1/My/Lab 1/1.jpg',1) #path #flag\n",
    "cv2.imshow('Input Window', img) #WindowName #image\n",
    "cv2.waitKey()\n",
    "cv2.destroyAllWindows()"
   ]
  },
  {
   "cell_type": "code",
   "execution_count": 22,
   "id": "9d136a10-c58f-4e01-b6e2-8e5eb488ae68",
   "metadata": {},
   "outputs": [],
   "source": [
    "img = cv2.imread('1.jpg',cv2.IMREAD_COLOR) #path #flag\n",
    "cv2.imshow('Input Window', img) #WindowName #image\n",
    "cv2.waitKey()\n",
    "cv2.destroyAllWindows()"
   ]
  },
  {
   "cell_type": "code",
   "execution_count": 25,
   "id": "3ae4c2a7-4d81-4aa7-8326-1358a03eb28d",
   "metadata": {},
   "outputs": [],
   "source": [
    "img1 = cv2.imread('D:/SLIIT Y4 S1/IUP/Labs/Lab 1/My/Lab 1/1.jpg',0) #path #flag\n",
    "cv2.imshow('Input Window', img1) #WindowName #image\n",
    "cv2.waitKey()\n",
    "cv2.destroyAllWindows()"
   ]
  },
  {
   "cell_type": "code",
   "execution_count": 26,
   "id": "540af21e-8950-433c-bf1a-fffe6af2b60d",
   "metadata": {},
   "outputs": [],
   "source": [
    "img1 = cv2.imread('1.jpg',cv2.IMREAD_GRAYSCALE) #path #flag\n",
    "cv2.imshow('Input Window', img1) #WindowName #image\n",
    "cv2.waitKey()\n",
    "cv2.destroyAllWindows()"
   ]
  },
  {
   "cell_type": "code",
   "execution_count": 19,
   "id": "6afde0fa-23c2-4c2a-a424-55c668da426c",
   "metadata": {},
   "outputs": [],
   "source": [
    "img = cv2.imread('D:/SLIIT Y4 S1/IUP/Labs/Lab 1/My/Lab 1/1.jpg',-1) #path #flag\n",
    "cv2.imshow('Input Window', img) #WindowName #image\n",
    "cv2.waitKey()\n",
    "cv2.destroyAllWindows()"
   ]
  },
  {
   "cell_type": "code",
   "execution_count": 24,
   "id": "ff288628-c8a7-4318-9a97-3e3d800c25dd",
   "metadata": {},
   "outputs": [],
   "source": [
    "img = cv2.imread('1.jpg',cv2.IMREAD_UNCHANGED) #path #flag\n",
    "cv2.imshow('Input Window', img) #WindowName #image\n",
    "cv2.waitKey()\n",
    "cv2.destroyAllWindows()"
   ]
  },
  {
   "cell_type": "markdown",
   "id": "1738e519-3eeb-4d3a-b675-70ae31a28341",
   "metadata": {},
   "source": [
    "### Q1) B - Save an image"
   ]
  },
  {
   "cell_type": "code",
   "execution_count": 29,
   "id": "cfff5422-3dab-4d8f-8ddb-71cfeafba157",
   "metadata": {},
   "outputs": [
    {
     "name": "stdout",
     "output_type": "stream",
     "text": [
      "Successfully Saved? True\n"
     ]
    }
   ],
   "source": [
    "status = cv2.imwrite('gray.jpg', img1) #name #Image\n",
    "print('Successfully Saved?',status)"
   ]
  },
  {
   "cell_type": "markdown",
   "id": "1747a584-0376-41d5-8b29-abc1951dfd78",
   "metadata": {},
   "source": [
    "### To access pixel values"
   ]
  },
  {
   "cell_type": "code",
   "execution_count": 30,
   "id": "389eb934-401d-4224-91bd-62682b6fdbd1",
   "metadata": {},
   "outputs": [
    {
     "name": "stdout",
     "output_type": "stream",
     "text": [
      "[ 22 208 248]\n"
     ]
    }
   ],
   "source": [
    "img = cv2.imread('1.jpg', 1)\n",
    "px = img[50,100]\n",
    "print(px)"
   ]
  },
  {
   "cell_type": "code",
   "execution_count": null,
   "id": "a8da3daf-7129-443f-ae77-bd6835d4cb16",
   "metadata": {},
   "outputs": [],
   "source": [
    "img[50,100] = = [0,o,255] # give the color that you want to change\n",
    "plt.imshow()"
   ]
  }
 ],
 "metadata": {
  "kernelspec": {
   "display_name": "Python 3 (ipykernel)",
   "language": "python",
   "name": "python3"
  },
  "language_info": {
   "codemirror_mode": {
    "name": "ipython",
    "version": 3
   },
   "file_extension": ".py",
   "mimetype": "text/x-python",
   "name": "python",
   "nbconvert_exporter": "python",
   "pygments_lexer": "ipython3",
   "version": "3.10.0"
  }
 },
 "nbformat": 4,
 "nbformat_minor": 5
}
