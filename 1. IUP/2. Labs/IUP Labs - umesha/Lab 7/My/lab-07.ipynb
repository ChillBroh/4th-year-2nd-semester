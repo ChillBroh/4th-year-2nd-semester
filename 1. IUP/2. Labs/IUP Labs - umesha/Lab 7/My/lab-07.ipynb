{
 "cells": [
  {
   "cell_type": "markdown",
   "id": "73713a86-6020-4e2b-90a9-6ca498503540",
   "metadata": {},
   "source": [
    "# Lab 07"
   ]
  },
  {
   "cell_type": "code",
   "execution_count": 1,
   "id": "501088dc-cd9c-4419-8710-d64ac1a86261",
   "metadata": {},
   "outputs": [],
   "source": [
    "#import the needed modules from the PIL package \n",
    "from PIL import Image, ImageFilter, ImageOps"
   ]
  },
  {
   "cell_type": "code",
   "execution_count": null,
   "id": "c6cb8e49-d56b-4023-8154-bf6a077c3c4d",
   "metadata": {},
   "outputs": [],
   "source": [
    "# \"D:\\SLIIT Y4 S1\\IUP\\Labs\\Lab 7\\My\\noise.jpg\""
   ]
  },
  {
   "cell_type": "code",
   "execution_count": 3,
   "id": "038a2d75-d1b6-438f-87fc-2ff23210d2d1",
   "metadata": {},
   "outputs": [],
   "source": [
    "#Create an Image Object\n",
    "img1 = Image.open('noise.jpg')\n",
    "img1.show()"
   ]
  },
  {
   "cell_type": "code",
   "execution_count": 4,
   "id": "48bfbbdf-aadb-4292-9bce-04b0aa444e1e",
   "metadata": {},
   "outputs": [],
   "source": [
    "#Applying Min Filter using ImageFilter.MinFilter() method\n",
    "img2 = img1.filter(ImageFilter.MinFilter(size = 3))\n",
    "img2.show()"
   ]
  },
  {
   "cell_type": "code",
   "execution_count": 8,
   "id": "d59dd8d2-8277-4f26-ae19-356d684634c8",
   "metadata": {},
   "outputs": [],
   "source": [
    "#Applying Max Filter using ImageFilter.MaxFilter() method\n",
    "img3 = img2.filter(ImageFilter.MaxFilter(size = 3))\n",
    "img3.show()"
   ]
  },
  {
   "cell_type": "code",
   "execution_count": 6,
   "id": "573a2625-7eb5-4429-bae0-f88ede5531ce",
   "metadata": {},
   "outputs": [],
   "source": [
    "#Apply Grayscale using ImageOps.grayscale(img) method\n",
    "img4 = ImageOps.grayscale(img3)\n",
    "img4.show()"
   ]
  },
  {
   "cell_type": "code",
   "execution_count": 7,
   "id": "6de72091-69a8-456c-89e7-7f161b616f57",
   "metadata": {},
   "outputs": [],
   "source": [
    "#Apply Edge detection using ImageFilter.Kernel() method\n",
    "#ImageFilter.Kernel(size,kernel,scale,offset)\n",
    "img5 = img4.filter(ImageFilter.Kernel((3,3), (-1,-1,-1,-1,8,-1,-1,-1,-1),1,0))\n",
    "img5.show()"
   ]
  },
  {
   "cell_type": "code",
   "execution_count": null,
   "id": "ff55bc84-ad75-41a1-aa1d-d1883211dd66",
   "metadata": {},
   "outputs": [],
   "source": []
  }
 ],
 "metadata": {
  "kernelspec": {
   "display_name": "Python 3 (ipykernel)",
   "language": "python",
   "name": "python3"
  },
  "language_info": {
   "codemirror_mode": {
    "name": "ipython",
    "version": 3
   },
   "file_extension": ".py",
   "mimetype": "text/x-python",
   "name": "python",
   "nbconvert_exporter": "python",
   "pygments_lexer": "ipython3",
   "version": "3.12.7"
  }
 },
 "nbformat": 4,
 "nbformat_minor": 5
}
